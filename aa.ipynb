{
 "cells": [
  {
   "cell_type": "code",
   "execution_count": 17,
   "metadata": {},
   "outputs": [
    {
     "name": "stdout",
     "output_type": "stream",
     "text": [
      "  Patient Number    Sadness    Euphoric  Exhausted Sleep dissorder Mood Swing  \\\n",
      "0     Patiant-01    Usually      Seldom  Sometimes       Sometimes        YES   \n",
      "1     Patiant-02    Usually      Seldom    Usually       Sometimes         NO   \n",
      "2     Patiant-03  Sometimes  Most-Often  Sometimes       Sometimes        YES   \n",
      "3     Patiant-04    Usually      Seldom    Usually      Most-Often        YES   \n",
      "4     Patiant-05    Usually     Usually  Sometimes       Sometimes         NO   \n",
      "\n",
      "  Suicidal thoughts Anorxia Authority Respect Try-Explanation  \\\n",
      "0              YES       NO                NO             YES   \n",
      "1               YES      NO                NO              NO   \n",
      "2                NO      NO                NO             YES   \n",
      "3               YES     YES                NO             YES   \n",
      "4                NO      NO                NO              NO   \n",
      "\n",
      "  Aggressive Response Ignore & Move-On Nervous Break-down Admit Mistakes  \\\n",
      "0                  NO               NO                YES            YES   \n",
      "1                  NO               NO                 NO             NO   \n",
      "2                 YES               NO                YES            YES   \n",
      "3                  NO               NO                 NO             NO   \n",
      "4                  NO               NO                YES            YES   \n",
      "\n",
      "  Overthinking Sexual Activity Concentration  Optimisim Expert Diagnose  \n",
      "0          YES       3 From 10     3 From 10  4 From 10  Bipolar Type-2  \n",
      "1           NO       4 From 10     2 From 10  5 From 10      Depression  \n",
      "2           NO       6 From 10     5 From 10  7 From 10  Bipolar Type-1  \n",
      "3           NO       3 From 10     2 From 10  2 From 10  Bipolar Type-2  \n",
      "4          YES       5 From 10     5 From 10  6 From 10          Normal  \n",
      "Veri seti boyutu: (120, 19)\n",
      "Patient Number         0\n",
      "Sadness                0\n",
      "Euphoric               0\n",
      "Exhausted              0\n",
      "Sleep dissorder        0\n",
      "Mood Swing             0\n",
      "Suicidal thoughts      0\n",
      "Anorxia                0\n",
      "Authority Respect      0\n",
      "Try-Explanation        0\n",
      "Aggressive Response    0\n",
      "Ignore & Move-On       0\n",
      "Nervous Break-down     0\n",
      "Admit Mistakes         0\n",
      "Overthinking           0\n",
      "Sexual Activity        0\n",
      "Concentration          0\n",
      "Optimisim              0\n",
      "Expert Diagnose        0\n",
      "dtype: int64\n"
     ]
    }
   ],
   "source": [
    "import pandas as pd\n",
    "\n",
    "# Veri setini yükleme\n",
    "file_path = 'C:\\\\Users\\\\shrgu\\\\OneDrive\\\\Masaüstü\\\\archive\\\\Dataset-Mental-Disorders.csv'\n",
    "df = pd.read_csv(file_path)\n",
    "\n",
    "# Veri setinin ilk birkaç satırını inceleme\n",
    "print(df.head())\n",
    "\n",
    "# Veri setinin boyutunu kontrol etme\n",
    "print(f\"Veri seti boyutu: {df.shape}\")\n",
    "\n",
    "# Eksik veri kontrolü\n",
    "print(df.isnull().sum())"
   ]
  },
  {
   "cell_type": "code",
   "execution_count": null,
   "metadata": {},
   "outputs": [
    {
     "name": "stdout",
     "output_type": "stream",
     "text": [
      "<class 'pandas.core.frame.DataFrame'>\n",
      "RangeIndex: 120 entries, 0 to 119\n",
      "Data columns (total 19 columns):\n",
      " #   Column               Non-Null Count  Dtype \n",
      "---  ------               --------------  ----- \n",
      " 0   Patient Number       120 non-null    object\n",
      " 1   Sadness              120 non-null    object\n",
      " 2   Euphoric             120 non-null    object\n",
      " 3   Exhausted            120 non-null    object\n",
      " 4   Sleep dissorder      120 non-null    object\n",
      " 5   Mood Swing           120 non-null    object\n",
      " 6   Suicidal thoughts    120 non-null    object\n",
      " 7   Anorxia              120 non-null    object\n",
      " 8   Authority Respect    120 non-null    object\n",
      " 9   Try-Explanation      120 non-null    object\n",
      " 10  Aggressive Response  120 non-null    object\n",
      " 11  Ignore & Move-On     120 non-null    object\n",
      " 12  Nervous Break-down   120 non-null    object\n",
      " 13  Admit Mistakes       120 non-null    object\n",
      " 14  Overthinking         120 non-null    object\n",
      " 15  Sexual Activity      120 non-null    object\n",
      " 16  Concentration        120 non-null    object\n",
      " 17  Optimisim            120 non-null    object\n",
      " 18  Expert Diagnose      120 non-null    object\n",
      "dtypes: object(19)\n",
      "memory usage: 17.9+ KB\n",
      "None\n"
     ]
    }
   ],
   "source": [
    "# Verisetinin genel bilgilerini alın (sütun sayısı, veri türleri, eksik değerler vb.)\n",
    "print(df.info())"
   ]
  },
  {
   "cell_type": "code",
   "execution_count": 19,
   "metadata": {},
   "outputs": [
    {
     "name": "stdout",
     "output_type": "stream",
     "text": [
      "Patient Number         0\n",
      "Sadness                0\n",
      "Euphoric               0\n",
      "Exhausted              0\n",
      "Sleep dissorder        0\n",
      "Mood Swing             0\n",
      "Suicidal thoughts      0\n",
      "Anorxia                0\n",
      "Authority Respect      0\n",
      "Try-Explanation        0\n",
      "Aggressive Response    0\n",
      "Ignore & Move-On       0\n",
      "Nervous Break-down     0\n",
      "Admit Mistakes         0\n",
      "Overthinking           0\n",
      "Sexual Activity        0\n",
      "Concentration          0\n",
      "Optimisim              0\n",
      "Expert Diagnose        0\n",
      "dtype: int64\n"
     ]
    }
   ],
   "source": [
    "# Eksik verileri kontrol etme\n",
    "print(df.isnull().sum())"
   ]
  },
  {
   "cell_type": "code",
   "execution_count": 20,
   "metadata": {},
   "outputs": [
    {
     "name": "stdout",
     "output_type": "stream",
     "text": [
      "  Patient Number  Sadness  Euphoric  Exhausted  Sleep dissorder  Mood Swing  \\\n",
      "0     Patiant-01        3         1          2                2           1   \n",
      "1     Patiant-02        3         1          3                2           0   \n",
      "2     Patiant-03        2         0          2                2           1   \n",
      "3     Patiant-04        3         1          3                0           1   \n",
      "4     Patiant-05        3         3          2                2           0   \n",
      "\n",
      "   Suicidal thoughts  Anorxia  Authority Respect  Try-Explanation  \\\n",
      "0                  2        0                  0                1   \n",
      "1                  1        0                  0                0   \n",
      "2                  0        0                  0                1   \n",
      "3                  1        1                  0                1   \n",
      "4                  0        0                  0                0   \n",
      "\n",
      "   Aggressive Response  Ignore & Move-On  Nervous Break-down  Admit Mistakes  \\\n",
      "0                    0                 0                   1               1   \n",
      "1                    0                 0                   0               0   \n",
      "2                    1                 0                   1               1   \n",
      "3                    0                 0                   0               0   \n",
      "4                    0                 0                   1               1   \n",
      "\n",
      "   Overthinking  Sexual Activity  Concentration  Optimisim Expert Diagnose  \n",
      "0             1                2              2          3  Bipolar Type-2  \n",
      "1             0                3              1          4      Depression  \n",
      "2             0                5              4          6  Bipolar Type-1  \n",
      "3             0                2              1          1  Bipolar Type-2  \n",
      "4             1                4              4          5          Normal  \n"
     ]
    }
   ],
   "source": [
    "from sklearn.preprocessing import LabelEncoder\n",
    "\n",
    "# Kategorik sütunları etiketlemek için LabelEncoder kullanıyoruz\n",
    "label_encoder = LabelEncoder()\n",
    "\n",
    "# Kategorik sütunlar ve Türkçe açıklamaları\n",
    "categorical_columns = {\n",
    "    'Sadness': 'Üzüntü',\n",
    "    'Euphoric': 'Coşku',\n",
    "    'Exhausted': 'Yorgunluk',\n",
    "    'Sleep dissorder': 'Uyku bozukluğu',\n",
    "    'Mood Swing': 'Ruh hali değişimi',\n",
    "    'Suicidal thoughts': 'İntihar düşünceleri',\n",
    "    'Anorxia': 'İştah kaybı',\n",
    "    'Authority Respect': 'Otoriteye saygı',\n",
    "    'Try-Explanation': 'Açıklama yapma çabası',\n",
    "    'Aggressive Response': 'Agresif tepki',\n",
    "    'Ignore & Move-On': 'Görmezden gelme ve geçme',\n",
    "    'Nervous Break-down': 'Sinir krizi',\n",
    "    'Admit Mistakes': 'Hataları kabul etme',\n",
    "    'Overthinking': 'Aşırı düşünme',\n",
    "    'Sexual Activity': 'Cinsel faaliyet',\n",
    "    'Concentration': 'Konsantrasyon',\n",
    "    'Optimisim': 'İyimserlik'\n",
    "}\n",
    "\n",
    "# Kategorik verileri sayısal verilere dönüştürme\n",
    "for column, turkish_name in categorical_columns.items():\n",
    "    df[column] = label_encoder.fit_transform(df[column])\n",
    "\n",
    "# Değişiklikleri kontrol et\n",
    "print(df.head())"
   ]
  },
  {
   "cell_type": "code",
   "execution_count": 21,
   "metadata": {},
   "outputs": [
    {
     "name": "stdout",
     "output_type": "stream",
     "text": [
      "Eğitim verisi boyutu: (96, 18)\n",
      "Test verisi boyutu: (24, 18)\n"
     ]
    }
   ],
   "source": [
    "from sklearn.model_selection import train_test_split\n",
    "\n",
    "# Özellikler (features) ve hedef değişken (target)\n",
    "X = df.drop('Expert Diagnose', axis=1)  # 'Expert Diagnose' dışındaki tüm sütunlar özellikler\n",
    "y = df['Expert Diagnose']  # 'Expert Diagnose' hedef değişken\n",
    "\n",
    "# Eğitim ve test verisini %80-%20 oranında ayıralım\n",
    "X_train, X_test, y_train, y_test = train_test_split(X, y, test_size=0.2, random_state=42)\n",
    "\n",
    "print(f\"Eğitim verisi boyutu: {X_train.shape}\")\n",
    "print(f\"Test verisi boyutu: {X_test.shape}\")"
   ]
  },
  {
   "cell_type": "code",
   "execution_count": 22,
   "metadata": {},
   "outputs": [],
   "source": [
    "# 'Patient Number' sütununu çıkaralım\n",
    "X_train = X_train.drop(columns=['Patient Number'])\n",
    "X_test = X_test.drop(columns=['Patient Number'])"
   ]
  },
  {
   "cell_type": "code",
   "execution_count": 23,
   "metadata": {},
   "outputs": [
    {
     "name": "stdout",
     "output_type": "stream",
     "text": [
      "Index(['Sadness', 'Euphoric', 'Exhausted', 'Sleep dissorder', 'Mood Swing',\n",
      "       'Suicidal thoughts', 'Anorxia', 'Authority Respect', 'Try-Explanation',\n",
      "       'Aggressive Response', 'Ignore & Move-On', 'Nervous Break-down',\n",
      "       'Admit Mistakes', 'Overthinking', 'Sexual Activity', 'Concentration',\n",
      "       'Optimisim'],\n",
      "      dtype='object')\n",
      "Model Doğruluğu: 0.71\n",
      "Sınıflandırma Raporu:\n",
      "                precision    recall  f1-score   support\n",
      "\n",
      "Bipolar Type-1       0.67      1.00      0.80         4\n",
      "Bipolar Type-2       0.50      0.80      0.62         5\n",
      "    Depression       1.00      0.62      0.77         8\n",
      "        Normal       0.80      0.57      0.67         7\n",
      "\n",
      "      accuracy                           0.71        24\n",
      "     macro avg       0.74      0.75      0.71        24\n",
      "  weighted avg       0.78      0.71      0.71        24\n",
      "\n"
     ]
    }
   ],
   "source": [
    "from sklearn.svm import SVC  # Support Vector Classification\n",
    "from sklearn.metrics import accuracy_score, classification_report\n",
    "from sklearn.preprocessing import LabelEncoder\n",
    "import pandas as pd\n",
    "\n",
    "# Verisetinizdeki sütun adlarını kontrol edin\n",
    "print(X_train.columns)\n",
    "\n",
    "# Kategorik sütunların adlarını doğru şekilde belirleyin\n",
    "categorical_columns = ['Your-Correct-Column-1', 'Your-Correct-Column-2']  # Kategorik sütunlarınızın doğru adlarını buraya yazın\n",
    "\n",
    "# LabelEncoder ile kategorik veriyi sayısal hale getirme\n",
    "label_encoder = LabelEncoder()\n",
    "\n",
    "# X_train ve X_test üzerinde LabelEncoder uygulayın\n",
    "for column in categorical_columns:\n",
    "    if column in X_train.columns:  # Sadece var olan sütunlarda işlem yapıyoruz\n",
    "        X_train[column] = label_encoder.fit_transform(X_train[column])\n",
    "        X_test[column] = label_encoder.transform(X_test[column])\n",
    "\n",
    "# SVM modelini oluşturuyoruz\n",
    "model = SVC(random_state=42)\n",
    "\n",
    "# Modeli eğitiyoruz\n",
    "model.fit(X_train, y_train)\n",
    "\n",
    "# Tahminleri yapıyoruz\n",
    "y_pred = model.predict(X_test)\n",
    "\n",
    "# Modelin doğruluğunu ve diğer değerlendirme metriklerini hesaplıyoruz\n",
    "accuracy = accuracy_score(y_test, y_pred)\n",
    "report = classification_report(y_test, y_pred)\n",
    "\n",
    "# Sonuçları yazdırıyoruz\n",
    "print(f\"Model Doğruluğu: {accuracy:.2f}\")\n",
    "print(f\"Sınıflandırma Raporu:\\n{report}\")"
   ]
  },
  {
   "cell_type": "code",
   "execution_count": 24,
   "metadata": {},
   "outputs": [
    {
     "name": "stdout",
     "output_type": "stream",
     "text": [
      "Model Doğruluğu: 0.71\n",
      "Sınıflandırma Raporu:\n",
      "                precision    recall  f1-score   support\n",
      "\n",
      "Bipolar Type-1       0.67      1.00      0.80         4\n",
      "Bipolar Type-2       0.50      0.80      0.62         5\n",
      "    Depression       1.00      0.62      0.77         8\n",
      "        Normal       0.80      0.57      0.67         7\n",
      "\n",
      "      accuracy                           0.71        24\n",
      "     macro avg       0.74      0.75      0.71        24\n",
      "  weighted avg       0.78      0.71      0.71        24\n",
      "\n"
     ]
    }
   ],
   "source": [
    "from sklearn.svm import SVC  # Support Vector Classification\n",
    "from sklearn.metrics import accuracy_score, classification_report\n",
    "\n",
    "# Modeli oluşturuyoruz\n",
    "model = SVC(random_state=42)\n",
    "\n",
    "# Modeli eğitiyoruz\n",
    "model.fit(X_train, y_train)\n",
    "\n",
    "# Tahminleri yapıyoruz\n",
    "y_pred = model.predict(X_test)\n",
    "\n",
    "# Modelin doğruluğunu ve diğer değerlendirme metriklerini hesaplıyoruz\n",
    "accuracy = accuracy_score(y_test, y_pred)\n",
    "report = classification_report(y_test, y_pred)\n",
    "\n",
    "# Sonuçları yazdırıyoruz\n",
    "print(f\"Model Doğruluğu: {accuracy:.2f}\")\n",
    "print(f\"Sınıflandırma Raporu:\\n{report}\")"
   ]
  },
  {
   "cell_type": "code",
   "execution_count": 29,
   "metadata": {},
   "outputs": [
    {
     "name": "stdout",
     "output_type": "stream",
     "text": [
      "Lütfen aşağıdaki belirtiler için değerlerinizi girin (0: Hiçbir zaman, 1: Nadiren, 2: Bazen, 3: Sıklıkla):\n",
      "Kullanıcı Tahmini: Bipolar Type-2\n"
     ]
    }
   ],
   "source": [
    "import pandas as pd\n",
    "from sklearn.svm import SVC  # SVC modelini kullanıyoruz\n",
    "\n",
    "# Modelin eğitimli olduğunu varsayıyoruz\n",
    "# Bu adımı daha önceki eğitimle gerçekleştirmiş olmanız gerekiyor\n",
    "\n",
    "# Kullanıcıdan veri almayı sağlayan fonksiyon\n",
    "def get_user_input():\n",
    "    user_data = {}\n",
    "    print(\"Lütfen aşağıdaki belirtiler için değerlerinizi girin (0: Hiçbir zaman, 1: Nadiren, 2: Bazen, 3: Sıklıkla):\")\n",
    "    \n",
    "    user_data['Sadness'] = int(input(\"Sadness (Üzüntü): \"))\n",
    "    user_data['Euphoric'] = int(input(\"Euphoric (Coşku): \"))\n",
    "    user_data['Exhausted'] = int(input(\"Exhausted (Yorgunluk): \"))\n",
    "    user_data['Sleep dissorder'] = int(input(\"Sleep dissorder (Uyku bozukluğu): \"))\n",
    "    user_data['Mood Swing'] = int(input(\"Mood Swing (Ruh hali değişimi): \"))\n",
    "    user_data['Suicidal thoughts'] = int(input(\"Suicidal thoughts (İntihar düşünceleri): \"))\n",
    "    user_data['Anorxia'] = int(input(\"Anorxia (İştah kaybı): \"))\n",
    "    user_data['Authority Respect'] = int(input(\"Authority Respect (Otoriteye saygı): \"))\n",
    "    user_data['Try-Explanation'] = int(input(\"Try-Explanation (Açıklama yapma çabası): \"))\n",
    "    user_data['Aggressive Response'] = int(input(\"Aggressive Response (Agresif tepki): \"))\n",
    "    user_data['Ignore & Move-On'] = int(input(\"Ignore & Move-On (Görmezden gelme ve geçme): \"))\n",
    "    user_data['Nervous Break-down'] = int(input(\"Nervous Break-down (Sinir krizi): \"))\n",
    "    user_data['Admit Mistakes'] = int(input(\"Admit Mistakes (Hataları kabul etme): \"))\n",
    "    user_data['Overthinking'] = int(input(\"Overthinking (Aşırı düşünme): \"))\n",
    "    user_data['Sexual Activity'] = int(input(\"Sexual Activity (Cinsel faaliyet): \"))\n",
    "    user_data['Concentration'] = int(input(\"Concentration (Konsantrasyon): \"))\n",
    "    user_data['Optimisim'] = int(input(\"Optimisim (İyimserlik): \"))\n",
    "    \n",
    "    return user_data\n",
    "\n",
    "# Kullanıcıdan veri alıyoruz\n",
    "user_data = get_user_input()\n",
    "\n",
    "# Kullanıcı verisini DataFrame'e dönüştürme\n",
    "user_df = pd.DataFrame([user_data])\n",
    "\n",
    "# Model ile tahmin yapma\n",
    "user_prediction = model.predict(user_df)\n",
    "\n",
    "# Kullanıcı tahminini yazdırıyoruz\n",
    "print(f\"Kullanıcı Tahmini: {user_prediction[0]}\")"
   ]
  }
 ],
 "metadata": {
  "kernelspec": {
   "display_name": "Python 3",
   "language": "python",
   "name": "python3"
  },
  "language_info": {
   "codemirror_mode": {
    "name": "ipython",
    "version": 3
   },
   "file_extension": ".py",
   "mimetype": "text/x-python",
   "name": "python",
   "nbconvert_exporter": "python",
   "pygments_lexer": "ipython3",
   "version": "3.12.5"
  }
 },
 "nbformat": 4,
 "nbformat_minor": 2
}
